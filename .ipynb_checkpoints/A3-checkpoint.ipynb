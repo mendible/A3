{
 "cells": [
  {
   "cell_type": "code",
   "execution_count": 1,
   "metadata": {},
   "outputs": [],
   "source": [
    "import pandas as pd\n",
    "import altair as alt\n",
    "import numpy as np\n",
    "alt.renderers.enable('notebook')\n",
    "#alt.data_transformers.enable('default', max_rows=None)\n",
    "pd.set_option('display.max_columns', None)"
   ]
  },
  {
   "cell_type": "code",
   "execution_count": null,
   "metadata": {},
   "outputs": [],
   "source": [
    "df15 = pd.read_csv('world-happiness-report/2015new.csv')\n",
    "df16 = pd.read_csv('world-happiness-report/2016new.csv')\n",
    "df17 = pd.read_csv('world-happiness-report/2017new.csv')\n",
    "\n",
    "df15['Upper Confidence Interval'] = df15['Happiness Score']+df15['Standard Error']\n",
    "df15['Lower Confidence Interval'] = df15['Happiness Score']-df15['Standard Error']\n",
    "df15 = df15.drop(columns=\"Standard Error\")\n"
   ]
  },
  {
   "cell_type": "code",
   "execution_count": null,
   "metadata": {},
   "outputs": [],
   "source": [
    "df15[\"year\"] = 1955\n",
    "df16[\"year\"] = 1980\n",
    "df17[\"year\"] = 2005"
   ]
  },
  {
   "cell_type": "code",
   "execution_count": null,
   "metadata": {},
   "outputs": [],
   "source": [
    "df = pd.DataFrame()\n",
    "df = df.append(df15)\n",
    "df = df.append(df16, sort= False)\n",
    "df = df.append(df17, sort= False)\n",
    "df = df.rename(columns={\"Country\":\"country\",\n",
    "                   \"Region\":\"region\",\n",
    "                   \"Happiness Rank\":\"rank\",\n",
    "                   \"Happiness Score\":\"score\",\n",
    "                   \"Economy (GDP per Capita)\":\"gdp\",\n",
    "                   \"Family\":\"fertility\",\n",
    "                   \"Health (Life Expectancy)\":\"life_expect\",\n",
    "                   \"Freedom\":\"freedom\",\n",
    "                   \"Trust (Government Corruption)\":\"trust\",\n",
    "                   \"Generosity\":\"generosity\",\n",
    "                   \"Dystopia Residual\":\"resid\",\n",
    "                   \"Upper Confidence Interval\":\"uci\",\n",
    "                   \"Lower Confidence Interval\":\"lci\"})"
   ]
  },
  {
   "cell_type": "code",
   "execution_count": null,
   "metadata": {},
   "outputs": [],
   "source": [
    "import altair as alt\n",
    "\n",
    "source = df\n",
    "\n",
    "brush = alt.selection(type='interval', resolve='global')\n",
    "\n",
    "base = alt.Chart(source).mark_circle(opacity=0.8).encode(\n",
    "    y='Happiness Score',\n",
    "    color=alt.condition(brush, 'Region', alt.ColorValue('gray')),\n",
    "    tooltip = ['Country', 'Year']\n",
    ").add_selection(\n",
    "    brush\n",
    ").properties(\n",
    "    width=250,\n",
    "    height=250\n",
    ")\n",
    "\n",
    "base.encode(x='Health (Life Expectancy)') | base.encode(x='Freedom')"
   ]
  },
  {
   "cell_type": "code",
   "execution_count": null,
   "metadata": {},
   "outputs": [],
   "source": [
    "with open('gapminder3.json', 'w') as f:\n",
    "    f.write(df.to_json(orient='records', lines=False))"
   ]
  },
  {
   "cell_type": "code",
   "execution_count": null,
   "metadata": {},
   "outputs": [],
   "source": [
    "df.region.unique()\n"
   ]
  },
  {
   "cell_type": "code",
   "execution_count": null,
   "metadata": {},
   "outputs": [],
   "source": [
    "clust = 0\n",
    "df['cluster'] = ''\n",
    "for i in df.region.unique():\n",
    "    df.loc[df['region'] == i, 'cluster'] = clust\n",
    "    clust+=1"
   ]
  },
  {
   "cell_type": "code",
   "execution_count": null,
   "metadata": {},
   "outputs": [],
   "source": [
    "df.head()\n"
   ]
  },
  {
   "cell_type": "code",
   "execution_count": null,
   "metadata": {},
   "outputs": [],
   "source": []
  },
  {
   "cell_type": "code",
   "execution_count": null,
   "metadata": {},
   "outputs": [],
   "source": [
    "clust = 0\n",
    "df['cluster'] = ''\n",
    "for i in df.region.unique():\n",
    "    df.loc[df['region'] == i, 'cluster'] = clust\n",
    "    clust+=1"
   ]
  },
  {
   "cell_type": "code",
   "execution_count": null,
   "metadata": {},
   "outputs": [],
   "source": [
    "with open('happiness.json', 'w') as f:\n",
    "    f.write(df.to_json(orient='records', lines=False))"
   ]
  },
  {
   "cell_type": "code",
   "execution_count": null,
   "metadata": {},
   "outputs": [],
   "source": [
    "df.head()"
   ]
  },
  {
   "cell_type": "code",
   "execution_count": null,
   "metadata": {},
   "outputs": [],
   "source": [
    "df.region.unique()"
   ]
  },
  {
   "cell_type": "code",
   "execution_count": null,
   "metadata": {},
   "outputs": [],
   "source": [
    "df.loc[df['region']==('Southern Asia'), 'region'] = 'Asia'\n",
    "df.loc[df['region']==('Southeastern Asia'), 'region'] = 'Asia'\n",
    "df.loc[df['region']==('Eastern Asia'), 'region'] = 'Asia'"
   ]
  },
  {
   "cell_type": "code",
   "execution_count": null,
   "metadata": {},
   "outputs": [],
   "source": [
    "df = pd.read_csv('happiness_data.csv')\n",
    "df = df.rename(columns={'score':'happy'})\n",
    "clust = 0\n",
    "df['cluster'] = ''\n",
    "for i in df.region.unique():\n",
    "    df.loc[df['region'] == i, 'cluster'] = clust\n",
    "    clust+=1\n",
    "with open('happiness_big.json', 'w') as f:\n",
    "    f.write(df.to_json(orient='records', lines=False))"
   ]
  },
  {
   "cell_type": "code",
   "execution_count": null,
   "metadata": {},
   "outputs": [],
   "source": [
    "dfyear = df.groupby('country')"
   ]
  },
  {
   "cell_type": "code",
   "execution_count": null,
   "metadata": {},
   "outputs": [],
   "source": [
    "dfyear.head()"
   ]
  },
  {
   "cell_type": "code",
   "execution_count": null,
   "metadata": {},
   "outputs": [],
   "source": [
    "with open('happiness.json', 'w') as f:\n",
    "    f.write(df.to_json(orient='records', lines=False))"
   ]
  },
  {
   "cell_type": "code",
   "execution_count": null,
   "metadata": {},
   "outputs": [],
   "source": [
    "df.year.unique()"
   ]
  },
  {
   "cell_type": "code",
   "execution_count": null,
   "metadata": {},
   "outputs": [],
   "source": [
    "dfyear = df.groupby('country')['country']\n",
    "dfyear.head()"
   ]
  },
  {
   "cell_type": "code",
   "execution_count": null,
   "metadata": {},
   "outputs": [],
   "source": [
    "df.head()"
   ]
  },
  {
   "cell_type": "code",
   "execution_count": null,
   "metadata": {},
   "outputs": [],
   "source": [
    "avg_years = np.array([])\n",
    "for i in df.country.unique():\n",
    "    years_avail = df.loc[df['country']==i,'year']\n",
    "    avg_years=np.append(avg_years,len(np.intersect1d(years_avail, range(2005,2018))))\n",
    "\n",
    "    for j in range(2005,2018):\n",
    "        if ~np.isin(j,years_avail):\n",
    "            print('')\n",
    "            "
   ]
  },
  {
   "cell_type": "code",
   "execution_count": null,
   "metadata": {},
   "outputs": [],
   "source": []
  },
  {
   "cell_type": "code",
   "execution_count": 2,
   "metadata": {},
   "outputs": [],
   "source": [
    "df= pd.read_csv('happiness_pivot.csv')\n",
    "with open('happiness_pivot.json', 'w') as f:\n",
    "    f.write(df.to_json(orient='records', lines=False))"
   ]
  },
  {
   "cell_type": "code",
   "execution_count": null,
   "metadata": {},
   "outputs": [],
   "source": []
  }
 ],
 "metadata": {
  "kernelspec": {
   "display_name": "Python 3",
   "language": "python",
   "name": "python3"
  },
  "language_info": {
   "codemirror_mode": {
    "name": "ipython",
    "version": 3
   },
   "file_extension": ".py",
   "mimetype": "text/x-python",
   "name": "python",
   "nbconvert_exporter": "python",
   "pygments_lexer": "ipython3",
   "version": "3.6.8"
  }
 },
 "nbformat": 4,
 "nbformat_minor": 2
}
